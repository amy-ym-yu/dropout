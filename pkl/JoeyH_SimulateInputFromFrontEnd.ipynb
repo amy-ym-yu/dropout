{
 "cells": [
  {
   "cell_type": "code",
   "execution_count": 1,
   "metadata": {},
   "outputs": [],
   "source": [
    "import pandas as pd\n",
    "dropout_data = pd.read_csv(\"dropout.csv\", delimiter=';')\n",
    "# get 1 raw data from dropout.csv to simulate user input from frontEnd    \n",
    "DataFromFrontEndUser = dropout_data.sample(4000)\n",
    "y_test = DataFromFrontEndUser['Target']\n",
    "X_test = DataFromFrontEndUser.drop(columns=['Target'])\n",
    "X_test = X_test.drop(columns=['Nacionality', \n",
    "                    'Mother\\'s qualification', \n",
    "                    'Father\\'s qualification', \n",
    "                    'Mother\\'s occupation',\n",
    "                    'Father\\'s occupation',\n",
    "                    'Educational special needs', \n",
    "                    'International', \n",
    "                    'Curricular units 1st sem (without evaluations)',\n",
    "                    'Curricular units 2nd sem (without evaluations)',\n",
    "                    'Unemployment rate', \n",
    "                    'Inflation rate'], axis=1)\n",
    "# the X_test and y_test would be like \n",
    "# print(X_test,y_test)"
   ]
  },
  {
   "cell_type": "code",
   "execution_count": 2,
   "metadata": {},
   "outputs": [
    {
     "name": "stdout",
     "output_type": "stream",
     "text": [
      "  (0, 0)\t-0.5540677512436588\n",
      "  (0, 1)\t-0.6939730878554988\n",
      "  (0, 2)\t-1.117245352401485\n",
      "  (0, 3)\t-1.2598402961236081\n",
      "  (0, 4)\t-0.30081305824983723\n",
      "  (0, 5)\t-0.109105147316254\n",
      "  (0, 6)\t-0.07156661452170444\n",
      "  (0, 7)\t0.4180498886958897\n",
      "  (0, 8)\t0.31505442299978875\n",
      "  (0, 9)\t-0.2824423108896146\n",
      "  (0, 10)\t-0.10572600419086485\n",
      "  (0, 11)\t-0.522682374307949\n",
      "  (0, 12)\t0.518903690034754\n",
      "  (0, 13)\t0.6275732900163251\n",
      "  (0, 14)\t0.8891263042772198\n",
      "  (0, 15)\t1.0\n",
      "  (0, 21)\t1.0\n",
      "  (0, 49)\t1.0\n",
      "  (0, 57)\t1.0\n",
      "  (0, 58)\t1.0\n",
      "  (0, 76)\t1.0\n",
      "  (0, 77)\t1.0\n",
      "  (0, 80)\t1.0\n",
      "  (0, 81)\t1.0\n",
      "  (0, 83)\t1.0\n",
      "  :\t:\n",
      "  (3999, 0)\t2.4908958903736655\n",
      "  (3999, 1)\t-0.6939730878554988\n",
      "  (3999, 2)\t-0.06064207713923577\n",
      "  (3999, 3)\t-0.12234270028318116\n",
      "  (3999, 4)\t-0.30081305824983723\n",
      "  (3999, 5)\t-0.109105147316254\n",
      "  (3999, 6)\t0.16774608588949805\n",
      "  (3999, 7)\t-0.22838587068566077\n",
      "  (3999, 8)\t0.17740199473679763\n",
      "  (3999, 9)\t-0.2824423108896146\n",
      "  (3999, 10)\t-0.10572600419086485\n",
      "  (3999, 11)\t-0.522682374307949\n",
      "  (3999, 12)\t0.518903690034754\n",
      "  (3999, 13)\t0.3716659405840146\n",
      "  (3999, 14)\t0.14012166938988344\n",
      "  (3999, 15)\t1.0\n",
      "  (3999, 28)\t1.0\n",
      "  (3999, 43)\t1.0\n",
      "  (3999, 57)\t1.0\n",
      "  (3999, 58)\t1.0\n",
      "  (3999, 76)\t1.0\n",
      "  (3999, 77)\t1.0\n",
      "  (3999, 79)\t1.0\n",
      "  (3999, 81)\t1.0\n",
      "  (3999, 83)\t1.0 [2 2 1 ... 2 0 2]\n"
     ]
    }
   ],
   "source": [
    "import pickle\n",
    "preprocessor = pickle.load(open('preprocessor.pkl','rb'))\n",
    "label_encoder = pickle.load(open('label_encoder.pkl','rb'))\n",
    "X_test = preprocessor.transform(X_test)\n",
    "y_test = label_encoder.transform(y_test)\n",
    "# the data after transform by scaler and laber_encoder\n",
    "print(X_test,y_test)\n"
   ]
  },
  {
   "cell_type": "code",
   "execution_count": 4,
   "metadata": {},
   "outputs": [
    {
     "name": "stderr",
     "output_type": "stream",
     "text": [
      "/opt/homebrew/lib/python3.11/site-packages/xgboost/core.py:160: UserWarning: [15:45:21] WARNING: /Users/runner/work/xgboost/xgboost/src/gbm/gbtree.cc:385: Changing updater from `grow_gpu_hist` to `grow_quantile_histmaker`.\n",
      "  warnings.warn(smsg, UserWarning)\n",
      "/opt/homebrew/lib/python3.11/site-packages/xgboost/core.py:160: UserWarning: [15:45:22] WARNING: /Users/runner/work/xgboost/xgboost/src/gbm/gbtree.cc:385: Changing updater from `grow_gpu_hist` to `grow_quantile_histmaker`.\n",
      "  warnings.warn(smsg, UserWarning)\n"
     ]
    },
    {
     "name": "stdout",
     "output_type": "stream",
     "text": [
      "XGB Classifier Accuracy : 96.1 %\n",
      "Voting Classifier Accuracy : 97.6 %\n",
      "RF Classifier Accuracy : 97.82 %\n"
     ]
    }
   ],
   "source": [
    "from sklearn.metrics import accuracy_score\n",
    "XGB = pickle.load(open(\"SMOTE_XGBoost.pkl\", 'rb'))\n",
    "y_pred = XGB.predict(X_test)\n",
    "print(\"XGB Classifier Accuracy :\",round(accuracy_score(y_test,y_pred)*100,2),\"%\")\n",
    "\n",
    "Voting = pickle.load(open(\"SMOTE_Voting.pkl\", 'rb'))\n",
    "y_pred = Voting.predict(X_test)\n",
    "print(\"Voting Classifier Accuracy :\",round(accuracy_score(y_test,y_pred)*100,2),\"%\")\n",
    "\n",
    "from sklearn.metrics import accuracy_score\n",
    "RF = pickle.load(open(\"SMOTE_RF.pkl\", 'rb'))\n",
    "y_pred = RF.predict(X_test)\n",
    "print(\"RF Classifier Accuracy :\",round(accuracy_score(y_test,y_pred)*100,2),\"%\")"
   ]
  },
  {
   "cell_type": "code",
   "execution_count": null,
   "metadata": {},
   "outputs": [],
   "source": []
  },
  {
   "cell_type": "code",
   "execution_count": null,
   "metadata": {},
   "outputs": [],
   "source": []
  }
 ],
 "metadata": {
  "kernelspec": {
   "display_name": ".venv",
   "language": "python",
   "name": "python3"
  },
  "language_info": {
   "codemirror_mode": {
    "name": "ipython",
    "version": 3
   },
   "file_extension": ".py",
   "mimetype": "text/x-python",
   "name": "python",
   "nbconvert_exporter": "python",
   "pygments_lexer": "ipython3",
   "version": "3.11.6"
  }
 },
 "nbformat": 4,
 "nbformat_minor": 2
}
